{
 "cells": [
  {
   "cell_type": "code",
   "execution_count": 236,
   "id": "e8dc19be",
   "metadata": {},
   "outputs": [
    {
     "name": "stdout",
     "output_type": "stream",
     "text": [
      "Requirement already satisfied: pandas in c:\\users\\lylet\\anaconda3\\lib\\site-packages (1.3.4)\n",
      "Requirement already satisfied: openpyxl in c:\\users\\lylet\\anaconda3\\lib\\site-packages (3.0.9)\n",
      "Requirement already satisfied: numpy in c:\\users\\lylet\\anaconda3\\lib\\site-packages (1.20.3)\n",
      "Requirement already satisfied: scipy in c:\\users\\lylet\\anaconda3\\lib\\site-packages (1.7.1)\n",
      "Requirement already satisfied: matplotlib in c:\\users\\lylet\\anaconda3\\lib\\site-packages (3.4.3)\n",
      "Requirement already satisfied: python-dateutil>=2.7.3 in c:\\users\\lylet\\anaconda3\\lib\\site-packages (from pandas) (2.8.2)\n",
      "Requirement already satisfied: pytz>=2017.3 in c:\\users\\lylet\\anaconda3\\lib\\site-packages (from pandas) (2021.3)\n",
      "Requirement already satisfied: et-xmlfile in c:\\users\\lylet\\anaconda3\\lib\\site-packages (from openpyxl) (1.1.0)\n",
      "Requirement already satisfied: kiwisolver>=1.0.1 in c:\\users\\lylet\\anaconda3\\lib\\site-packages (from matplotlib) (1.3.1)\n",
      "Requirement already satisfied: pillow>=6.2.0 in c:\\users\\lylet\\anaconda3\\lib\\site-packages (from matplotlib) (8.4.0)\n",
      "Requirement already satisfied: cycler>=0.10 in c:\\users\\lylet\\anaconda3\\lib\\site-packages (from matplotlib) (0.10.0)\n",
      "Requirement already satisfied: pyparsing>=2.2.1 in c:\\users\\lylet\\anaconda3\\lib\\site-packages (from matplotlib) (3.0.4)\n",
      "Requirement already satisfied: six in c:\\users\\lylet\\anaconda3\\lib\\site-packages (from cycler>=0.10->matplotlib) (1.16.0)\n"
     ]
    },
    {
     "name": "stderr",
     "output_type": "stream",
     "text": [
      "IOPub data rate exceeded.\n",
      "The notebook server will temporarily stop sending output\n",
      "to the client in order to avoid crashing it.\n",
      "To change this limit, set the config variable\n",
      "`--NotebookApp.iopub_data_rate_limit`.\n",
      "\n",
      "Current values:\n",
      "NotebookApp.iopub_data_rate_limit=1000000.0 (bytes/sec)\n",
      "NotebookApp.rate_limit_window=3.0 (secs)\n",
      "\n"
     ]
    }
   ],
   "source": [
    "# Install a pip package in the current Jupyter kernel\n",
    "import sys\n",
    "!{sys.executable} -m pip install pandas openpyxl numpy scipy matplotlib\n",
    "\n",
    "import pandas as pd\n",
    "import numpy as np\n",
    "import os\n",
    "from zipfile import ZipFile as zf\n",
    "import urllib as ur\n",
    "import shutil\n",
    "import tempfile\n",
    "\n",
    "#grab FAA tables\n",
    "engine_types = {\n",
    "'0' : 'None'\n",
    ",'1' : 'Reciprocating'\n",
    ",'2' : 'Turbo-prop'\n",
    ",'3' : 'Turbo-shaft'\n",
    ",'4' : 'Turbo-jet'\n",
    ",'5' : 'Turbo-fan'\n",
    ",'6' : 'Ramjet'\n",
    ",'7' : '2 Cycle'\n",
    ",'8' : '4 Cycle'\n",
    ",'9' : 'Unknown'\n",
    ",'10' : 'Electric'\n",
    ",'11' : 'Rotary'\n",
    "}\n",
    "\n",
    "file_dict = {\n",
    "                2020: {'url':'https://registry.faa.gov/database/yearly/ReleasableAircraft.2020.zip'}\n",
    "            }\n",
    "\n",
    "file_dict.items()\n",
    "# filepath = \"D:\\lylet\\Downloads\\ReleasableAircraft.zip\"\n",
    "\n",
    "for k,v in file_dict.items():\n",
    "    #download file to current directory\n",
    "    with ur.request.urlopen(v['url']) as response:\n",
    "        with tempfile.NamedTemporaryFile(delete=False) as tmp_file:\n",
    "            shutil.copyfileobj(response, tmp_file)\n",
    "            with ZipFile(filepath) as myzip:\n",
    "                with myzip.open('ACFTREF.txt') as myfile:\n",
    "                    print(myzip.infolist())\n",
    "                    with myzip.open('ACFTREF.txt') as myfile:\n",
    "                        df_acft = pd.read_csv(myfile, index_col='CODE')\n",
    "                    with myzip.open('ENGINE.txt') as myfile:\n",
    "                        df_eng = pd.read_csv(myfile, index_col='CODE', dtype={'CODE':'str'})\n",
    "                    with myzip.open('MASTER.txt') as myfile:\n",
    "                        df_registry = pd.read_csv(myfile, dtype={'ENG MFR MDL':'Int64'}, na_values='     ')\n",
    "                    with myzip.open('DOCINDEX.txt') as myfile:\n",
    "                        df_index = pd.read_csv(myfile)\n",
    "                    with myzip.open('ardata.pdf') as myfile:\n",
    "                        pass   \n",
    "\n",
    "yes_engine = df_registry[\"ENG MFR MDL\"].isna() == False\n",
    "df1 = df_registry[yes_engine].join(df_acft, on='MFR MDL CODE').join(\n",
    "    df_eng\n",
    "    , on='ENG MFR MDL'\n",
    "    , rsuffix='_engine'\n",
    "    , lsuffix='_aircraft')\n",
    "\n",
    "no_engine = df_registry[\"ENG MFR MDL\"].isna() == True\n",
    "df2 = df_registry[no_engine].join(df_acft, on='MFR MDL CODE')\n",
    "\n",
    "df = pd.concat([df1, df2]) \n",
    "\n",
    "df.drop(columns=['MFR','MODEL'],axis=1, inplace=True)\n"
   ]
  }
 ],
 "metadata": {
  "kernelspec": {
   "display_name": "Python 3 (ipykernel)",
   "language": "python",
   "name": "python3"
  },
  "language_info": {
   "codemirror_mode": {
    "name": "ipython",
    "version": 3
   },
   "file_extension": ".py",
   "mimetype": "text/x-python",
   "name": "python",
   "nbconvert_exporter": "python",
   "pygments_lexer": "ipython3",
   "version": "3.9.7"
  }
 },
 "nbformat": 4,
 "nbformat_minor": 5
}
