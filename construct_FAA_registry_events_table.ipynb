{
 "cells": [
  {
   "cell_type": "code",
   "execution_count": null,
   "metadata": {},
   "outputs": [],
   "source": [
    "# Install a pip package in the current Jupyter kernel\n",
    "# import sys\n",
    "# !{sys.executable} -m pip install pandas openpyxl numpy scipy matplotlib\n",
    "\n",
    "import pandas as pd\n",
    "import numpy as np\n",
    "import os\n",
    "from zipfile import ZipFile as zf\n",
    "import urllib as ur\n",
    "import shutil\n",
    "import tempfile\n",
    "import datetime\n",
    "import sqlalchemy as sa\n",
    "\n",
    "#grab FAA tables\n",
    "engine_types = {\n",
    "'0' : 'None'\n",
    ",'1' : 'Reciprocating'\n",
    ",'2' : 'Turbo-prop'\n",
    ",'3' : 'Turbo-shaft'\n",
    ",'4' : 'Turbo-jet'\n",
    ",'5' : 'Turbo-fan'\n",
    ",'6' : 'Ramjet'\n",
    ",'7' : '2 Cycle'\n",
    ",'8' : '4 Cycle'\n",
    ",'9' : 'Unknown'\n",
    ",'10' : 'Electric'\n",
    ",'11' : 'Rotary'\n",
    "}\n",
    "\n",
    "engine_types = {\n",
    "'1' : 'Glider'\n",
    "'2' : 'Balloon'\n",
    "'3' : 'Blimp/Dirigible'\n",
    "'4' : 'Fixed wing single engine'\n",
    "'5' : 'Fixed wing multi engine'\n",
    "'6' : 'Rotorcraft'\n",
    "'7' : 'Weight-shift-control'\n",
    "'8' : 'Powered Parachute'\n",
    "'9' : 'Gyroplane'\n",
    "'H' : 'Hybrid Lift'\n",
    "'O' : 'Other'\n",
    "}"
   ]
  },
  {
   "cell_type": "code",
   "execution_count": 6,
   "metadata": {},
   "outputs": [
    {
     "name": "stdout",
     "output_type": "stream",
     "text": [
      "[<ZipInfo filename='ardata.pdf' compress_type=deflate external_attr=0x20 file_size=507615 compress_size=434266>, <ZipInfo filename='ACFTREF.txt' compress_type=deflate file_size=13869362 compress_size=1597632>, <ZipInfo filename='ENGINE.txt' compress_type=deflate file_size=224659 compress_size=40339>, <ZipInfo filename='DEALER.txt' compress_type=deflate file_size=15672499 compress_size=729153>, <ZipInfo filename='RESERVED.txt' compress_type=deflate file_size=29879126 compress_size=2517683>, <ZipInfo filename='MASTER.txt' compress_type=deflate file_size=176822576 compress_size=28596470>, <ZipInfo filename='DOCINDEX.txt' compress_type=deflate file_size=5130492 compress_size=465376>, <ZipInfo filename='DEREG.txt' compress_type=deflate file_size=257468321 compress_size=33779235>]\n"
     ]
    },
    {
     "name": "stderr",
     "output_type": "stream",
     "text": [
      "C:\\ProgramData\\Anaconda3\\lib\\site-packages\\IPython\\core\\interactiveshell.py:3071: DtypeWarning: Columns (18) have mixed types.Specify dtype option on import or set low_memory=False.\n",
      "  has_raised = await self.run_ast_nodes(code_ast.body, cell_name,\n"
     ]
    }
   ],
   "source": [
    "file_dict = {\n",
    "                2020: {'url':'https://registry.faa.gov/database/yearly/ReleasableAircraft.2020.zip'}\n",
    "            }\n",
    "\n",
    "file_dict.items()\n",
    "filepath = r\"C:\\Users\\Lyle.Tripp\\Downloads\\ReleasableAircraft.2020.zip\"\n",
    "\n",
    "## Initialize some connection string/dbs for SQL interaction\n",
    "sql = {}\n",
    "\n",
    "sql[\"AEDT_SERVER_NAME\"] = r\"localhost\"#\\MSSQLSERVER_2012\" #\\\\MSSQLSERVER_2017\"\n",
    "sql[\"AEDT_SERVER_USER\"] = 'lt_remote'\n",
    "sql[\"AEDT_SERVER_PWD\"] = 'Welcome12345^'\n",
    "sql[\"CANDIDATE_FLEET_DATABASE\"] = sql[\"LEGACY_FLEET_DATABASE\"] = 'FAA_AIRCRAFT_REG' #legacy_fleet_database\n",
    "#sql[\"DRIVER\"] = '{SQL Server Native Client 11.0}' #\n",
    "sql[\"DRIVER\"] = '{ODBC Driver 17 for SQL Server}'\n",
    "sql[\"USE_WINDOWS_AUTHENTICATION\"] = False\n",
    "\n",
    "if sql[\"USE_WINDOWS_AUTHENTICATION\"]:\n",
    "    cnxn_string = 'DRIVER='+sql[\"DRIVER\"]+';PORT=1433;SERVER='+sql[\"AEDT_SERVER_NAME\"]+';PORT=1443;DATABASE='+sql[\"LEGACY_FLEET_DATABASE\"]+';trusted_connection=yes'\n",
    "else:\n",
    "    cnxn_string = 'DRIVER='+sql[\"DRIVER\"]+';PORT=1433;SERVER='+sql[\"AEDT_SERVER_NAME\"]+';PORT=1443;DATABASE='+sql[\"LEGACY_FLEET_DATABASE\"]+';UID='+ sql[\"AEDT_SERVER_USER\"]+';PWD='+ sql[\"AEDT_SERVER_PWD\"]\n",
    "params = urllib.parse.quote_plus(cnxn_string)\n",
    "engine = sa.create_engine(\"mssql+pyodbc:///?odbc_connect=%s\" % params)\n",
    "\n",
    "# for k,v in file_dict.items():\n",
    "#     #download file to \n",
    "#     with ur.request.urlopen(v['url']) as response:\n",
    "#         with tempfile.NamedTemporaryFile(delete=False) as tmp_file:\n",
    "#             shutil.copyfileobj(response, tmp_file)\n",
    "with zf(filepath) as myzip:\n",
    "    with myzip.open('ACFTREF.txt') as myfile:\n",
    "        print(myzip.infolist())\n",
    "        with myzip.open('ACFTREF.txt') as myfile:\n",
    "            df_acft = pd.read_csv(myfile, index_col='CODE')\n",
    "        with myzip.open('ENGINE.txt') as myfile:\n",
    "            df_eng = pd.read_csv(myfile, index_col='CODE', dtype={'CODE':'str'})\n",
    "        with myzip.open('MASTER.txt') as myfile:\n",
    "            df_registry = pd.read_csv(\n",
    "                myfile\n",
    "                , dtype={'ENG MFR MDL':'Int64'}\n",
    "                , na_values=['     ','        ']\n",
    "                , parse_dates=['EXPIRATION DATE', 'CERT ISSUE DATE']\n",
    "                , infer_datetime_format=True)\n",
    "        with myzip.open('DOCINDEX.txt') as myfile:\n",
    "            df_index = pd.read_csv(myfile)\n",
    "        with myzip.open('ardata.pdf') as myfile:\n",
    "            pass   \n",
    "\n",
    "yes_engine = df_registry[\"ENG MFR MDL\"].isna() == False\n",
    "df1 = df_registry[yes_engine].join(df_acft, on='MFR MDL CODE').join(\n",
    "    df_eng\n",
    "    , on='ENG MFR MDL'\n",
    "    , rsuffix='_engine'\n",
    "    , lsuffix='_aircraft')\n",
    "\n",
    "no_engine = df_registry[\"ENG MFR MDL\"].isna() == True\n",
    "df2 = df_registry[no_engine].join(df_acft, on='MFR MDL CODE')\n",
    "\n",
    "df = pd.concat([df1, df2]) \n",
    "\n",
    "df.drop(columns=['MFR','MODEL'],axis=1, inplace=True)\n",
    "\n",
    "df.to_sql('faa_aircraft_reg',con=engine)"
   ]
  },
  {
   "cell_type": "code",
   "execution_count": 7,
   "metadata": {},
   "outputs": [
    {
     "data": {
      "text/plain": [
       "N-NUMBER                    object\n",
       "SERIAL NUMBER               object\n",
       "MFR MDL CODE                object\n",
       "ENG MFR MDL                  Int64\n",
       "YEAR MFR                    object\n",
       "TYPE REGISTRANT             object\n",
       "NAME                        object\n",
       "STREET                      object\n",
       "STREET2                     object\n",
       "CITY                        object\n",
       "STATE                       object\n",
       "ZIP CODE                    object\n",
       "REGION                      object\n",
       "COUNTY                      object\n",
       "COUNTRY                     object\n",
       "LAST ACTION DATE             int64\n",
       "CERT ISSUE DATE     datetime64[ns]\n",
       "CERTIFICATION               object\n",
       "TYPE AIRCRAFT               object\n",
       "TYPE ENGINE                  int64\n",
       "STATUS CODE                 object\n",
       "MODE S CODE                  int64\n",
       "FRACT OWNER                 object\n",
       "AIR WORTH DATE             float64\n",
       "OTHER NAMES(1)              object\n",
       "OTHER NAMES(2)              object\n",
       "OTHER NAMES(3)              object\n",
       "OTHER NAMES(4)              object\n",
       "OTHER NAMES(5)              object\n",
       "EXPIRATION DATE     datetime64[ns]\n",
       "UNIQUE ID                    int64\n",
       "KIT MFR                     object\n",
       " KIT MODEL                  object\n",
       "MODE S CODE HEX             object\n",
       "Unnamed: 34                float64\n",
       "MFR_aircraft                object\n",
       "MODEL_aircraft              object\n",
       "TYPE-ACFT                   object\n",
       "TYPE-ENG                     int64\n",
       "AC-CAT                       int64\n",
       "BUILD-CERT-IND               int64\n",
       "NO-ENG                       int64\n",
       "NO-SEATS                     int64\n",
       "AC-WEIGHT                   object\n",
       "SPEED                        int64\n",
       "TC-DATA-SHEET               object\n",
       "TC-DATA-HOLDER              object\n",
       "Unnamed: 13                float64\n",
       "MFR_engine                  object\n",
       "MODEL_engine                object\n",
       "TYPE                        object\n",
       "HORSEPOWER                 float64\n",
       "THRUST                     float64\n",
       "Unnamed: 6                 float64\n",
       "dtype: object"
      ]
     },
     "execution_count": 7,
     "metadata": {},
     "output_type": "execute_result"
    }
   ],
   "source": [
    "df.dtypes"
   ]
  },
  {
   "cell_type": "code",
   "execution_count": 245,
   "metadata": {},
   "outputs": [
    {
     "ename": "ValueError",
     "evalue": "time data '        ' does not match format '%Y%m%d' (match)",
     "output_type": "error",
     "traceback": [
      "\u001b[1;31m---------------------------------------------------------------------------\u001b[0m",
      "\u001b[1;31mTypeError\u001b[0m                                 Traceback (most recent call last)",
      "\u001b[1;32m~\\anaconda3\\lib\\site-packages\\pandas\\core\\tools\\datetimes.py\u001b[0m in \u001b[0;36m_to_datetime_with_format\u001b[1;34m(arg, orig_arg, name, tz, fmt, exact, errors, infer_datetime_format)\u001b[0m\n\u001b[0;32m    508\u001b[0m         \u001b[1;32mtry\u001b[0m\u001b[1;33m:\u001b[0m\u001b[1;33m\u001b[0m\u001b[1;33m\u001b[0m\u001b[0m\n\u001b[1;32m--> 509\u001b[1;33m             \u001b[0mvalues\u001b[0m\u001b[1;33m,\u001b[0m \u001b[0mtz\u001b[0m \u001b[1;33m=\u001b[0m \u001b[0mconversion\u001b[0m\u001b[1;33m.\u001b[0m\u001b[0mdatetime_to_datetime64\u001b[0m\u001b[1;33m(\u001b[0m\u001b[0marg\u001b[0m\u001b[1;33m)\u001b[0m\u001b[1;33m\u001b[0m\u001b[1;33m\u001b[0m\u001b[0m\n\u001b[0m\u001b[0;32m    510\u001b[0m             \u001b[0mdta\u001b[0m \u001b[1;33m=\u001b[0m \u001b[0mDatetimeArray\u001b[0m\u001b[1;33m(\u001b[0m\u001b[0mvalues\u001b[0m\u001b[1;33m,\u001b[0m \u001b[0mdtype\u001b[0m\u001b[1;33m=\u001b[0m\u001b[0mtz_to_dtype\u001b[0m\u001b[1;33m(\u001b[0m\u001b[0mtz\u001b[0m\u001b[1;33m)\u001b[0m\u001b[1;33m)\u001b[0m\u001b[1;33m\u001b[0m\u001b[1;33m\u001b[0m\u001b[0m\n",
      "\u001b[1;32m~\\anaconda3\\lib\\site-packages\\pandas\\_libs\\tslibs\\conversion.pyx\u001b[0m in \u001b[0;36mpandas._libs.tslibs.conversion.datetime_to_datetime64\u001b[1;34m()\u001b[0m\n",
      "\u001b[1;31mTypeError\u001b[0m: Unrecognized value type: <class 'str'>",
      "\nDuring handling of the above exception, another exception occurred:\n",
      "\u001b[1;31mValueError\u001b[0m                                Traceback (most recent call last)",
      "\u001b[1;32m~\\AppData\\Local\\Temp/ipykernel_18652/4026406227.py\u001b[0m in \u001b[0;36m<module>\u001b[1;34m\u001b[0m\n\u001b[1;32m----> 1\u001b[1;33m \u001b[0mpd\u001b[0m\u001b[1;33m.\u001b[0m\u001b[0mto_datetime\u001b[0m\u001b[1;33m(\u001b[0m\u001b[0mdf\u001b[0m\u001b[1;33m[\u001b[0m\u001b[1;34m\"EXPIRATION DATE\"\u001b[0m\u001b[1;33m]\u001b[0m\u001b[1;33m,\u001b[0m \u001b[0mformat\u001b[0m\u001b[1;33m=\u001b[0m\u001b[1;34m'%Y%m%d'\u001b[0m\u001b[1;33m)\u001b[0m\u001b[1;33m\u001b[0m\u001b[1;33m\u001b[0m\u001b[0m\n\u001b[0m",
      "\u001b[1;32m~\\anaconda3\\lib\\site-packages\\pandas\\core\\tools\\datetimes.py\u001b[0m in \u001b[0;36mto_datetime\u001b[1;34m(arg, errors, dayfirst, yearfirst, utc, format, exact, unit, infer_datetime_format, origin, cache)\u001b[0m\n\u001b[0;32m    881\u001b[0m                 \u001b[0mresult\u001b[0m \u001b[1;33m=\u001b[0m \u001b[0mresult\u001b[0m\u001b[1;33m.\u001b[0m\u001b[0mtz_localize\u001b[0m\u001b[1;33m(\u001b[0m\u001b[0mtz\u001b[0m\u001b[1;33m)\u001b[0m  \u001b[1;31m# type: ignore[call-arg]\u001b[0m\u001b[1;33m\u001b[0m\u001b[1;33m\u001b[0m\u001b[0m\n\u001b[0;32m    882\u001b[0m     \u001b[1;32melif\u001b[0m \u001b[0misinstance\u001b[0m\u001b[1;33m(\u001b[0m\u001b[0marg\u001b[0m\u001b[1;33m,\u001b[0m \u001b[0mABCSeries\u001b[0m\u001b[1;33m)\u001b[0m\u001b[1;33m:\u001b[0m\u001b[1;33m\u001b[0m\u001b[1;33m\u001b[0m\u001b[0m\n\u001b[1;32m--> 883\u001b[1;33m         \u001b[0mcache_array\u001b[0m \u001b[1;33m=\u001b[0m \u001b[0m_maybe_cache\u001b[0m\u001b[1;33m(\u001b[0m\u001b[0marg\u001b[0m\u001b[1;33m,\u001b[0m \u001b[0mformat\u001b[0m\u001b[1;33m,\u001b[0m \u001b[0mcache\u001b[0m\u001b[1;33m,\u001b[0m \u001b[0mconvert_listlike\u001b[0m\u001b[1;33m)\u001b[0m\u001b[1;33m\u001b[0m\u001b[1;33m\u001b[0m\u001b[0m\n\u001b[0m\u001b[0;32m    884\u001b[0m         \u001b[1;32mif\u001b[0m \u001b[1;32mnot\u001b[0m \u001b[0mcache_array\u001b[0m\u001b[1;33m.\u001b[0m\u001b[0mempty\u001b[0m\u001b[1;33m:\u001b[0m\u001b[1;33m\u001b[0m\u001b[1;33m\u001b[0m\u001b[0m\n\u001b[0;32m    885\u001b[0m             \u001b[0mresult\u001b[0m \u001b[1;33m=\u001b[0m \u001b[0marg\u001b[0m\u001b[1;33m.\u001b[0m\u001b[0mmap\u001b[0m\u001b[1;33m(\u001b[0m\u001b[0mcache_array\u001b[0m\u001b[1;33m)\u001b[0m\u001b[1;33m\u001b[0m\u001b[1;33m\u001b[0m\u001b[0m\n",
      "\u001b[1;32m~\\anaconda3\\lib\\site-packages\\pandas\\core\\tools\\datetimes.py\u001b[0m in \u001b[0;36m_maybe_cache\u001b[1;34m(arg, format, cache, convert_listlike)\u001b[0m\n\u001b[0;32m    193\u001b[0m         \u001b[0munique_dates\u001b[0m \u001b[1;33m=\u001b[0m \u001b[0munique\u001b[0m\u001b[1;33m(\u001b[0m\u001b[0marg\u001b[0m\u001b[1;33m)\u001b[0m\u001b[1;33m\u001b[0m\u001b[1;33m\u001b[0m\u001b[0m\n\u001b[0;32m    194\u001b[0m         \u001b[1;32mif\u001b[0m \u001b[0mlen\u001b[0m\u001b[1;33m(\u001b[0m\u001b[0munique_dates\u001b[0m\u001b[1;33m)\u001b[0m \u001b[1;33m<\u001b[0m \u001b[0mlen\u001b[0m\u001b[1;33m(\u001b[0m\u001b[0marg\u001b[0m\u001b[1;33m)\u001b[0m\u001b[1;33m:\u001b[0m\u001b[1;33m\u001b[0m\u001b[1;33m\u001b[0m\u001b[0m\n\u001b[1;32m--> 195\u001b[1;33m             \u001b[0mcache_dates\u001b[0m \u001b[1;33m=\u001b[0m \u001b[0mconvert_listlike\u001b[0m\u001b[1;33m(\u001b[0m\u001b[0munique_dates\u001b[0m\u001b[1;33m,\u001b[0m \u001b[0mformat\u001b[0m\u001b[1;33m)\u001b[0m\u001b[1;33m\u001b[0m\u001b[1;33m\u001b[0m\u001b[0m\n\u001b[0m\u001b[0;32m    196\u001b[0m             \u001b[0mcache_array\u001b[0m \u001b[1;33m=\u001b[0m \u001b[0mSeries\u001b[0m\u001b[1;33m(\u001b[0m\u001b[0mcache_dates\u001b[0m\u001b[1;33m,\u001b[0m \u001b[0mindex\u001b[0m\u001b[1;33m=\u001b[0m\u001b[0munique_dates\u001b[0m\u001b[1;33m)\u001b[0m\u001b[1;33m\u001b[0m\u001b[1;33m\u001b[0m\u001b[0m\n\u001b[0;32m    197\u001b[0m             \u001b[1;31m# GH#39882 and GH#35888 in case of None and NaT we get duplicates\u001b[0m\u001b[1;33m\u001b[0m\u001b[1;33m\u001b[0m\u001b[0m\n",
      "\u001b[1;32m~\\anaconda3\\lib\\site-packages\\pandas\\core\\tools\\datetimes.py\u001b[0m in \u001b[0;36m_convert_listlike_datetimes\u001b[1;34m(arg, format, name, tz, unit, errors, infer_datetime_format, dayfirst, yearfirst, exact)\u001b[0m\n\u001b[0;32m    391\u001b[0m \u001b[1;33m\u001b[0m\u001b[0m\n\u001b[0;32m    392\u001b[0m     \u001b[1;32mif\u001b[0m \u001b[0mformat\u001b[0m \u001b[1;32mis\u001b[0m \u001b[1;32mnot\u001b[0m \u001b[1;32mNone\u001b[0m\u001b[1;33m:\u001b[0m\u001b[1;33m\u001b[0m\u001b[1;33m\u001b[0m\u001b[0m\n\u001b[1;32m--> 393\u001b[1;33m         res = _to_datetime_with_format(\n\u001b[0m\u001b[0;32m    394\u001b[0m             \u001b[0marg\u001b[0m\u001b[1;33m,\u001b[0m \u001b[0morig_arg\u001b[0m\u001b[1;33m,\u001b[0m \u001b[0mname\u001b[0m\u001b[1;33m,\u001b[0m \u001b[0mtz\u001b[0m\u001b[1;33m,\u001b[0m \u001b[0mformat\u001b[0m\u001b[1;33m,\u001b[0m \u001b[0mexact\u001b[0m\u001b[1;33m,\u001b[0m \u001b[0merrors\u001b[0m\u001b[1;33m,\u001b[0m \u001b[0minfer_datetime_format\u001b[0m\u001b[1;33m\u001b[0m\u001b[1;33m\u001b[0m\u001b[0m\n\u001b[0;32m    395\u001b[0m         )\n",
      "\u001b[1;32m~\\anaconda3\\lib\\site-packages\\pandas\\core\\tools\\datetimes.py\u001b[0m in \u001b[0;36m_to_datetime_with_format\u001b[1;34m(arg, orig_arg, name, tz, fmt, exact, errors, infer_datetime_format)\u001b[0m\n\u001b[0;32m    511\u001b[0m             \u001b[1;32mreturn\u001b[0m \u001b[0mDatetimeIndex\u001b[0m\u001b[1;33m.\u001b[0m\u001b[0m_simple_new\u001b[0m\u001b[1;33m(\u001b[0m\u001b[0mdta\u001b[0m\u001b[1;33m,\u001b[0m \u001b[0mname\u001b[0m\u001b[1;33m=\u001b[0m\u001b[0mname\u001b[0m\u001b[1;33m)\u001b[0m\u001b[1;33m\u001b[0m\u001b[1;33m\u001b[0m\u001b[0m\n\u001b[0;32m    512\u001b[0m         \u001b[1;32mexcept\u001b[0m \u001b[1;33m(\u001b[0m\u001b[0mValueError\u001b[0m\u001b[1;33m,\u001b[0m \u001b[0mTypeError\u001b[0m\u001b[1;33m)\u001b[0m\u001b[1;33m:\u001b[0m\u001b[1;33m\u001b[0m\u001b[1;33m\u001b[0m\u001b[0m\n\u001b[1;32m--> 513\u001b[1;33m             \u001b[1;32mraise\u001b[0m \u001b[0merr\u001b[0m\u001b[1;33m\u001b[0m\u001b[1;33m\u001b[0m\u001b[0m\n\u001b[0m\u001b[0;32m    514\u001b[0m \u001b[1;33m\u001b[0m\u001b[0m\n\u001b[0;32m    515\u001b[0m \u001b[1;33m\u001b[0m\u001b[0m\n",
      "\u001b[1;32m~\\anaconda3\\lib\\site-packages\\pandas\\core\\tools\\datetimes.py\u001b[0m in \u001b[0;36m_to_datetime_with_format\u001b[1;34m(arg, orig_arg, name, tz, fmt, exact, errors, infer_datetime_format)\u001b[0m\n\u001b[0;32m    498\u001b[0m \u001b[1;33m\u001b[0m\u001b[0m\n\u001b[0;32m    499\u001b[0m         \u001b[1;31m# fallback\u001b[0m\u001b[1;33m\u001b[0m\u001b[1;33m\u001b[0m\u001b[0m\n\u001b[1;32m--> 500\u001b[1;33m         res = _array_strptime_with_fallback(\n\u001b[0m\u001b[0;32m    501\u001b[0m             \u001b[0marg\u001b[0m\u001b[1;33m,\u001b[0m \u001b[0mname\u001b[0m\u001b[1;33m,\u001b[0m \u001b[0mtz\u001b[0m\u001b[1;33m,\u001b[0m \u001b[0mfmt\u001b[0m\u001b[1;33m,\u001b[0m \u001b[0mexact\u001b[0m\u001b[1;33m,\u001b[0m \u001b[0merrors\u001b[0m\u001b[1;33m,\u001b[0m \u001b[0minfer_datetime_format\u001b[0m\u001b[1;33m\u001b[0m\u001b[1;33m\u001b[0m\u001b[0m\n\u001b[0;32m    502\u001b[0m         )\n",
      "\u001b[1;32m~\\anaconda3\\lib\\site-packages\\pandas\\core\\tools\\datetimes.py\u001b[0m in \u001b[0;36m_array_strptime_with_fallback\u001b[1;34m(arg, name, tz, fmt, exact, errors, infer_datetime_format)\u001b[0m\n\u001b[0;32m    434\u001b[0m \u001b[1;33m\u001b[0m\u001b[0m\n\u001b[0;32m    435\u001b[0m     \u001b[1;32mtry\u001b[0m\u001b[1;33m:\u001b[0m\u001b[1;33m\u001b[0m\u001b[1;33m\u001b[0m\u001b[0m\n\u001b[1;32m--> 436\u001b[1;33m         \u001b[0mresult\u001b[0m\u001b[1;33m,\u001b[0m \u001b[0mtimezones\u001b[0m \u001b[1;33m=\u001b[0m \u001b[0marray_strptime\u001b[0m\u001b[1;33m(\u001b[0m\u001b[0marg\u001b[0m\u001b[1;33m,\u001b[0m \u001b[0mfmt\u001b[0m\u001b[1;33m,\u001b[0m \u001b[0mexact\u001b[0m\u001b[1;33m=\u001b[0m\u001b[0mexact\u001b[0m\u001b[1;33m,\u001b[0m \u001b[0merrors\u001b[0m\u001b[1;33m=\u001b[0m\u001b[0merrors\u001b[0m\u001b[1;33m)\u001b[0m\u001b[1;33m\u001b[0m\u001b[1;33m\u001b[0m\u001b[0m\n\u001b[0m\u001b[0;32m    437\u001b[0m         \u001b[1;32mif\u001b[0m \u001b[1;34m\"%Z\"\u001b[0m \u001b[1;32min\u001b[0m \u001b[0mfmt\u001b[0m \u001b[1;32mor\u001b[0m \u001b[1;34m\"%z\"\u001b[0m \u001b[1;32min\u001b[0m \u001b[0mfmt\u001b[0m\u001b[1;33m:\u001b[0m\u001b[1;33m\u001b[0m\u001b[1;33m\u001b[0m\u001b[0m\n\u001b[0;32m    438\u001b[0m             \u001b[1;32mreturn\u001b[0m \u001b[0m_return_parsed_timezone_results\u001b[0m\u001b[1;33m(\u001b[0m\u001b[0mresult\u001b[0m\u001b[1;33m,\u001b[0m \u001b[0mtimezones\u001b[0m\u001b[1;33m,\u001b[0m \u001b[0mtz\u001b[0m\u001b[1;33m,\u001b[0m \u001b[0mname\u001b[0m\u001b[1;33m)\u001b[0m\u001b[1;33m\u001b[0m\u001b[1;33m\u001b[0m\u001b[0m\n",
      "\u001b[1;32m~\\anaconda3\\lib\\site-packages\\pandas\\_libs\\tslibs\\strptime.pyx\u001b[0m in \u001b[0;36mpandas._libs.tslibs.strptime.array_strptime\u001b[1;34m()\u001b[0m\n",
      "\u001b[1;31mValueError\u001b[0m: time data '        ' does not match format '%Y%m%d' (match)"
     ]
    }
   ],
   "source": [
    "pd.to_datetime(df[\"EXPIRATION DATE\"], format='%Y%m%d')"
   ]
  },
  {
   "cell_type": "code",
   "execution_count": 244,
   "metadata": {},
   "outputs": [
    {
     "data": {
      "text/plain": [
       "0    20230430\n",
       "1    20220228\n",
       "2    20201031\n",
       "5    20210228\n",
       "6    20220131\n",
       "Name: EXPIRATION DATE, dtype: object"
      ]
     },
     "execution_count": 244,
     "metadata": {},
     "output_type": "execute_result"
    }
   ],
   "source": [
    "df[\"EXPIRATION DATE\"]."
   ]
  }
 ],
 "metadata": {
  "kernelspec": {
   "display_name": "Python 3",
   "language": "python",
   "name": "python3"
  },
  "language_info": {
   "codemirror_mode": {
    "name": "ipython",
    "version": 3
   },
   "file_extension": ".py",
   "mimetype": "text/x-python",
   "name": "python",
   "nbconvert_exporter": "python",
   "pygments_lexer": "ipython3",
   "version": "3.8.3"
  }
 },
 "nbformat": 4,
 "nbformat_minor": 5
}
